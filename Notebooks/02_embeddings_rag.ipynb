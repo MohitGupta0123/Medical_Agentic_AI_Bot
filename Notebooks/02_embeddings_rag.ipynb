{
 "cells": [
  {
   "cell_type": "code",
   "execution_count": 1,
   "id": "f62c4d5c",
   "metadata": {},
   "outputs": [
    {
     "name": "stdout",
     "output_type": "stream",
     "text": [
      "Total chunks to embed: 13895\n"
     ]
    },
    {
     "data": {
      "application/vnd.jupyter.widget-view+json": {
       "model_id": "a47461aa8e8941fd8c7ee064fa32d811",
       "version_major": 2,
       "version_minor": 0
      },
      "text/plain": [
       "Batches:   0%|          | 0/435 [00:00<?, ?it/s]"
      ]
     },
     "metadata": {},
     "output_type": "display_data"
    },
    {
     "name": "stdout",
     "output_type": "stream",
     "text": [
      "FAISS index size: 13895\n",
      "FAISS index saved to ../Data/embeddings\\faiss_index.bin\n",
      "Metadata saved to ../Data/embeddings\\metadata.pkl\n",
      "Reloaded index size: 13895\n",
      "Metadata entries: 13895\n"
     ]
    }
   ],
   "source": [
    "import os\n",
    "import json\n",
    "import pickle\n",
    "import faiss\n",
    "import numpy as np\n",
    "from sentence_transformers import SentenceTransformer\n",
    "\n",
    "# -------- Paths --------\n",
    "PROCESSED_TEXT_PATH = \"../Data/processed_text/chunks_metadata.json\"\n",
    "EMBEDDINGS_DIR = \"../Data/embeddings\"\n",
    "FAISS_INDEX_PATH = os.path.join(EMBEDDINGS_DIR, \"faiss_index.bin\")\n",
    "METADATA_PATH = os.path.join(EMBEDDINGS_DIR, \"metadata.pkl\")\n",
    "\n",
    "os.makedirs(EMBEDDINGS_DIR, exist_ok=True)\n",
    "\n",
    "# -------- Load chunks --------\n",
    "with open(PROCESSED_TEXT_PATH, \"r\", encoding=\"utf-8\") as f:\n",
    "    chunks_data = json.load(f)\n",
    "\n",
    "# Initialize embedding model\n",
    "model = SentenceTransformer(\"sentence-transformers/all-MiniLM-L6-v2\")\n",
    "\n",
    "model.save('../models/all-MiniLM-L6-v2')\n",
    "\n",
    "# -------- 1. Embed text chunks --------\n",
    "texts = [chunk[\"content\"] for chunk in chunks_data]\n",
    "print(f\"Total chunks to embed: {len(texts)}\")\n",
    "\n",
    "text_embeddings = model.encode(texts, convert_to_numpy=True, show_progress_bar=True)\n",
    "\n",
    "# -------- 2. Embed captions --------\n",
    "for chunk in chunks_data:\n",
    "    for caption in chunk.get(\"captions\", []):\n",
    "        if caption[\"caption_text\"] and caption[\"caption_text\"].lower() != \"no caption detected\":\n",
    "            caption_emb = model.encode(caption[\"caption_text\"], convert_to_numpy=True)\n",
    "            caption[\"embedding\"] = caption_emb.tolist()  # store as list for JSON/Pickle\n",
    "        else:\n",
    "            caption[\"embedding\"] = None\n",
    "\n",
    "# -------- 3. Create FAISS index for text chunks --------\n",
    "dimension = text_embeddings.shape[1]\n",
    "index = faiss.IndexFlatL2(dimension)\n",
    "index.add(text_embeddings)\n",
    "print(f\"FAISS index size: {index.ntotal}\")\n",
    "\n",
    "# -------- 4. Save FAISS + metadata (with caption embeddings) --------\n",
    "faiss.write_index(index, FAISS_INDEX_PATH)\n",
    "\n",
    "with open(METADATA_PATH, \"wb\") as f:\n",
    "    pickle.dump(chunks_data, f)\n",
    "\n",
    "print(f\"FAISS index saved to {FAISS_INDEX_PATH}\")\n",
    "print(f\"Metadata saved to {METADATA_PATH}\")\n",
    "\n",
    "# -------- 5. Reload check --------\n",
    "loaded_index = faiss.read_index(FAISS_INDEX_PATH)\n",
    "with open(METADATA_PATH, \"rb\") as f:\n",
    "    metadata_loaded = pickle.load(f)\n",
    "\n",
    "print(f\"Reloaded index size: {loaded_index.ntotal}\")\n",
    "print(f\"Metadata entries: {len(metadata_loaded)}\")"
   ]
  },
  {
   "cell_type": "code",
   "execution_count": null,
   "id": "08bdb38d",
   "metadata": {},
   "outputs": [],
   "source": []
  }
 ],
 "metadata": {
  "kernelspec": {
   "display_name": ".venv (3.12.4)",
   "language": "python",
   "name": "python3"
  },
  "language_info": {
   "codemirror_mode": {
    "name": "ipython",
    "version": 3
   },
   "file_extension": ".py",
   "mimetype": "text/x-python",
   "name": "python",
   "nbconvert_exporter": "python",
   "pygments_lexer": "ipython3",
   "version": "3.12.4"
  }
 },
 "nbformat": 4,
 "nbformat_minor": 5
}
